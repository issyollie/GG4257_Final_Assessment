{
 "cells": [
  {
   "cell_type": "code",
   "execution_count": null,
   "id": "81687feb-e65c-4def-9f11-4ea93d91847e",
   "metadata": {},
   "outputs": [],
   "source": [
    "# This is the notebook that will have the report and that will link to the code for the maps created "
   ]
  }
 ],
 "metadata": {
  "kernelspec": {
   "display_name": "Python 3 (ipykernel)",
   "language": "python",
   "name": "python3"
  },
  "language_info": {
   "codemirror_mode": {
    "name": "ipython",
    "version": 3
   },
   "file_extension": ".py",
   "mimetype": "text/x-python",
   "name": "python",
   "nbconvert_exporter": "python",
   "pygments_lexer": "ipython3",
   "version": "3.10.13"
  }
 },
 "nbformat": 4,
 "nbformat_minor": 5
}
